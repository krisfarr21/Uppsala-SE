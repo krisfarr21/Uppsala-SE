{
  "nbformat": 4,
  "nbformat_minor": 0,
  "metadata": {
    "colab": {
      "name": "Assignment_4-1.ipynb",
      "provenance": [],
      "collapsed_sections": []
    },
    "kernelspec": {
      "name": "python3",
      "display_name": "Python 3"
    },
    "language_info": {
      "name": "python"
    }
  },
  "cells": [
    {
      "cell_type": "code",
      "metadata": {
        "colab": {
          "base_uri": "https://localhost:8080/"
        },
        "id": "rfflBeuThbU9",
        "outputId": "c3906304-5702-4ce8-95d5-605b0d9849cf"
      },
      "source": [
        "import numpy as np\n",
        "from urllib.request import urlopen\n",
        "from tqdm import tqdm\n",
        "import os.path\n",
        "import time\n",
        "\n",
        "class AlignedEmbeddingLoader(object):\n",
        "  \"\"\"This data loader will download an aligned fasttext embedding given a two letter language code.\n",
        "  More information ca be found at https://fasttext.cc/docs/en/aligned-vectors.html .\"\"\"\n",
        "  def __init__(self, lang='en'):\n",
        "    \"\"\"Data loader\"\"\"\n",
        "    self._dataurl = \"https://dl.fbaipublicfiles.com/fasttext/vectors-aligned/wiki.%s.align.vec\" % lang\n",
        "    cachefile = \"cache_%s.npz\" % lang\n",
        "    if os.path.exists(cachefile):\n",
        "      print(\"Loading cached data...\", end=\"\")\n",
        "      t = time.time()\n",
        "      data = np.load(cachefile)\n",
        "      self.idx2token_ = list(data['idx2token'])\n",
        "      self.vectors_ = data['vectors']\n",
        "      print(\"done (%isec)\" % (time.time()-t), flush=True)\n",
        "    else:\n",
        "      with urlopen(self._dataurl) as remote_file:\n",
        "        get_decoded_line = lambda file: file.readline().decode('utf-8')\n",
        "        self.n_tokens, self.n_dim = [int(n) for n in get_decoded_line(remote_file).split()]\n",
        "        self.idx2token_ = list()\n",
        "        self.vectors_ = np.zeros((self.n_tokens, self.n_dim), dtype=np.float32)\n",
        "        for n in tqdm(range(self.vectors_.shape[0]), desc=\"Downloading and parsing vectors\"):\n",
        "          textline = get_decoded_line(remote_file)\n",
        "          linedata = textline.split(' ')\n",
        "          self.idx2token_.append(linedata[0])\n",
        "          self.vectors_[n, :] = np.asarray(linedata[1:], dtype=np.float32)\n",
        "      np.savez(cachefile, vectors=self.vectors_, idx2token=self.idx2token_)\n",
        "    self.token2idx_ = {token:i for i, token in enumerate(self.idx2token_)}\n",
        "\n",
        "loaded_embedding = AlignedEmbeddingLoader('en')\n",
        "\n",
        "!ls -l"
      ],
      "execution_count": null,
      "outputs": [
        {
          "output_type": "stream",
          "text": [
            "Downloading and parsing vectors: 100%|██████████| 2519370/2519370 [03:30<00:00, 11957.12it/s]\n"
          ],
          "name": "stderr"
        },
        {
          "output_type": "stream",
          "text": [
            "total 5196212\n",
            "-rw-r--r-- 1 root root 5320910082 Jun 20 18:07 cache_en.npz\n",
            "drwxr-xr-x 1 root root       4096 Jun 15 13:37 sample_data\n"
          ],
          "name": "stdout"
        }
      ]
    },
    {
      "cell_type": "code",
      "metadata": {
        "id": "0KGbHDwzhgDM"
      },
      "source": [
        "from sklearn.metrics.pairwise import cosine_similarity, euclidean_distances\n",
        "\n",
        "class EmbeddingAnalyzer(object):\n",
        "    def __init__(self, embedding):\n",
        "        self.vectors_ = embedding.vectors_\n",
        "        self.token2idx_ = embedding.token2idx_\n",
        "        self.idx2token_ = embedding.idx2token_\n",
        "\n",
        "    def __len__(self):\n",
        "        \"\"\"Gives the number of tokens in the embedding.\"\"\"\n",
        "        assert len(self.token2idx_) == len(self.idx2token)\n",
        "        assert len(self.token2idx_) == self.vectors_.shape[0] # number of rows = number of tokens\n",
        "        return len(self.token2idx_) \n",
        "\n",
        "    def __getitem__(self, tokens):\n",
        "        \"\"\"Returns the vectors for a token or a list of tokens.\"\"\"\n",
        "        assert type(tokens) == str or type(tokens) == list\n",
        "        if type(tokens) == str:\n",
        "            return self.vectors_[self.token2idx_[tokens]]\n",
        "        else:\n",
        "            # create an empty matrix with length of list (rows) and dimensionality (columns)\n",
        "            mat = np.empty((len(tokens), self.vectors_.shape[1]))\n",
        "            # add vectors to matrix!\n",
        "            for i, token in enumerate(tokens):\n",
        "                mat[i, :] = self.vectors_[self.token2idx_[token]]\n",
        "            return mat\n",
        "\n",
        "    def __contains__(self, token):\n",
        "        \"\"\"Allows a user query if a tokens is in the embedding.\"\"\"\n",
        "        return token in self.token2idx_ # OR token in self.idx2token_\n",
        "\n",
        "    def projection(self, direction, vectors):\n",
        "        \"\"\" \n",
        "        - INPUT (converted through __getitem__):\n",
        "        direction:\n",
        "            A vector\n",
        "        vectors:\n",
        "            A row matrix with word vectors\n",
        "        - OUTPUT:\n",
        "        The cosine similarity between a reference direction\n",
        "        and a matrix of word vectors.  \"\"\"\n",
        "        if vectors.ndim == 1:\n",
        "            return cosine_similarity(direction.reshape(1, -1), vectors.reshape(1, -1))\n",
        "        newvecs = []\n",
        "        for vector in vectors:\n",
        "            newvecs.append(cosine_similarity(direction.reshape(1, -1), vector.reshape(1, -1))[0][0])\n",
        "        return np.array(newvecs)\n",
        "\n",
        "    # mat = np.empty((len(vectors), self.vectors_.shape[1]))\n",
        "    # for i, vec in enumerate(vectors):\n",
        "    #     vectors[i, :] = cosine_similarity(X=direction.reshape(1, -1), Y=vec.reshape(1, -1))\n",
        "    # return vectors\n",
        "\n",
        "    def simple_analogy(self, pair, query, k=5):\n",
        "        \"\"\"Simple/Classic word analogy as: man - woman = king - queen\n",
        "            Equation: Query - Pair = x\n",
        "        \"\"\"\n",
        "        x = self[query] - self[pair[0]] + self[pair[1]]\n",
        "        project = np.argsort(self.projection(x, self.vectors_))\n",
        "        return [self.idx2token_[token] for token in project[::-1][:k]]\n",
        "\n",
        "    def similarity(self, token1, token2):\n",
        "        \"\"\"Returns the cosine similarity between two tokens.\"\"\"\n",
        "        assert token1 in self.token2idx_ and token2 in self.token2idx_\n",
        "        return cosine_similarity(self[token1].reshape(1, -1), self[token2].reshape(1, -1))\n",
        "\n",
        "    def analogies(self, analogy_direction, tokens):\n",
        "        \"\"\"The more complex word analogy method\"\"\"\n",
        "        assert len(tokens) >= 2\n",
        "        ret = []\n",
        "        for i_1, token_1 in enumerate(tokens):\n",
        "            best_CS = (None, 0)\n",
        "            for i_2, token_2 in enumerate(tokens):\n",
        "                if i_1 != i_2:\n",
        "                    if euclidean_distances(self[token_1].reshape(1, -1), self[token_2].reshape(1, -1)) <= 1:\n",
        "                        CS = cosine_similarity(analogy_direction.reshape(1, -1), self[token_1].reshape(1, -1) - self[token_2].reshape(1, -1))\n",
        "                        if CS < best_CS[1]:\n",
        "                            best_CS = (token_2, CS)\n",
        "            if best_CS[0] != None:\n",
        "                ret.append((token_1, best_CS[0]))\n",
        "        return ret\n",
        "\n",
        "analyzer = EmbeddingAnalyzer(loaded_embedding)\n",
        "\n",
        "assert 'man' in analyzer.idx2token_ # OR assert 'man' in analyzer.token2idx_\n",
        "assert 'woman' in analyzer.idx2token_ # OR assert 'woman' in analyzer.token2idx_\n",
        "assert 'kdjfsfhgkdsjfdh' not in analyzer.idx2token_ # assert OR 'kdjfsfhgkdsjfdh' not in analyzer.token2idx_\n",
        "\n",
        "assert len(analyzer.token2idx_) > 100000\n",
        "\n",
        "assert type(analyzer['man']) is np.ndarray\n",
        "assert np.isclose(np.sum(analyzer['man']-analyzer['man']), 0)"
      ],
      "execution_count": null,
      "outputs": []
    },
    {
      "cell_type": "markdown",
      "metadata": {
        "id": "EX_7UbfKeLzH"
      },
      "source": [
        "## Word similarity\n",
        "\n",
        "We should be able to meassure similarity as cosine similarity.\n",
        "\n",
        "$cos(\\overrightarrow{cat}, \\overrightarrow{dog}) \\geq cos(\\overrightarrow{cat}, \\overrightarrow{cow})$"
      ]
    },
    {
      "cell_type": "code",
      "metadata": {
        "id": "AO70bGCuiND7"
      },
      "source": [
        "assert analyzer.similarity('cat', 'dog') >= analyzer.similarity('cat', 'cow')\n",
        "assert analyzer.similarity('eagle', 'falcon') >= analyzer.similarity('eagle', 'cow')"
      ],
      "execution_count": null,
      "outputs": []
    },
    {
      "cell_type": "markdown",
      "metadata": {
        "id": "TKsJ7LfELybJ"
      },
      "source": [
        "## Word analogies\n",
        "\n",
        "One of the core tasks for showing any semantic properties in an embedding is finding word analogies. We can this of this as word a is to word b, as word c is to word d. Our task is to find word d, knowing a, b, and c.\n",
        "\n",
        "$\\overrightarrow{a} - \\overrightarrow{b} \\approx \\overrightarrow{c} - \\overrightarrow{d}$\n",
        "\n",
        "For gender, this becomes:\n",
        "\n",
        "$\\overrightarrow{man} - \\overrightarrow{woman} \\approx \\overrightarrow{king} - \\overrightarrow{x}$\n",
        "\n",
        "By rearranging we get:\n",
        "\n",
        "$\\overrightarrow{king} - \\overrightarrow{man} + \\overrightarrow{woman} \\approx \\overrightarrow{x}$"
      ]
    },
    {
      "cell_type": "markdown",
      "metadata": {
        "id": "XgPGM1cvzIIo"
      },
      "source": [
        "## Finding the genderedness of professions\n",
        "\n",
        "Bulokbasi (2016) has a repo for the paper. We can download their data for professions. This allows us to find the genderedness for our embedding and plot against their survey data."
      ]
    },
    {
      "cell_type": "code",
      "metadata": {
        "colab": {
          "base_uri": "https://localhost:8080/"
        },
        "id": "ABmxQ1Fu56fr",
        "outputId": "0791833c-a741-4fc6-f27e-220e30a14772"
      },
      "source": [
        "import json\n",
        "with urlopen('https://raw.githubusercontent.com/tolga-b/debiaswe/master/data/professions.json') as remote_file:\n",
        "  professions = {title: {'definitional': defi, 'stereotypical': ster} for title, defi, ster in json.load(remote_file)}\n",
        "print(\"Loaded %i professions\" % len(professions))"
      ],
      "execution_count": null,
      "outputs": [
        {
          "output_type": "stream",
          "text": [
            "Loaded 320 professions\n"
          ],
          "name": "stdout"
        }
      ]
    },
    {
      "cell_type": "markdown",
      "metadata": {
        "id": "1mbuzbDNpygo"
      },
      "source": [
        "We want to find the projection of vectors for different profession on a gender direction. This can be done by finding the cosine similarity as:\n",
        "\n",
        "$cos(\\overrightarrow{man} - \\overrightarrow{woman}, \\overrightarrow{butcher})$\n",
        "\n",
        "$cos(\\overrightarrow{man} - \\overrightarrow{woman}, \\overrightarrow{ballerina})$\n",
        "\n",
        "The projection should be non-negative as $|cos(\\cdot,\\cdot)|$. However, by letting the projection method of the anlayzer give us the ccosine similarity, we can see the direction of the projection by looking at its sign."
      ]
    },
    {
      "cell_type": "code",
      "metadata": {
        "id": "uXVOOb8UEOsG"
      },
      "source": [
        "assert type(analyzer[['man', 'woman', 'butcher']]) is np.ndarray\n",
        "assert analyzer[['man', 'woman', 'butcher']].shape[0] == 3\n",
        "\n",
        "assert analyzer.projection(analyzer['man']-analyzer['woman'], analyzer['butcher'])  > 0\n",
        "assert analyzer.projection(analyzer['man']-analyzer['woman'], analyzer['ballerina']) < 0"
      ],
      "execution_count": null,
      "outputs": []
    },
    {
      "cell_type": "markdown",
      "metadata": {
        "id": "hvWMsRHWrZ-G"
      },
      "source": [
        "We create a woman-man direction."
      ]
    },
    {
      "cell_type": "code",
      "metadata": {
        "id": "o7qVcJM5_h7Y"
      },
      "source": [
        "direction = analyzer['man']-analyzer['woman']\n",
        "titles = [title for title in professions.keys() if title in analyzer]\n",
        "projection = analyzer.projection(direction, analyzer[titles])"
      ],
      "execution_count": null,
      "outputs": []
    },
    {
      "cell_type": "markdown",
      "metadata": {
        "id": "I4ld8hekrdEm"
      },
      "source": [
        "The estimation of the gender direction can be improved by using several pairs. Again, we use the data from Bulokbasi (2016)."
      ]
    },
    {
      "cell_type": "code",
      "metadata": {
        "colab": {
          "base_uri": "https://localhost:8080/"
        },
        "id": "unzkpmHOs6Wi",
        "outputId": "4b8eec78-c69d-4c10-e896-3105e55e9fc6"
      },
      "source": [
        "import json\n",
        "with urlopen('https://raw.githubusercontent.com/tolga-b/debiaswe/master/data/definitional_pairs.json') as remote_file:\n",
        "  definitional_pairs = [(m, f) for m, f in json.load(remote_file)]\n",
        "definitional_pairs"
      ],
      "execution_count": null,
      "outputs": [
        {
          "output_type": "execute_result",
          "data": {
            "text/plain": [
              "[('woman', 'man'),\n",
              " ('girl', 'boy'),\n",
              " ('she', 'he'),\n",
              " ('mother', 'father'),\n",
              " ('daughter', 'son'),\n",
              " ('gal', 'guy'),\n",
              " ('female', 'male'),\n",
              " ('her', 'his'),\n",
              " ('herself', 'himself'),\n",
              " ('Mary', 'John')]"
            ]
          },
          "metadata": {
            "tags": []
          },
          "execution_count": 31
        }
      ]
    },
    {
      "cell_type": "code",
      "metadata": {
        "id": "sueBKKyFGduH"
      },
      "source": [
        "direction2 = np.zeros(analyzer['man'].shape)\n",
        "for female, male in definitional_pairs:\n",
        "  direction2 += analyzer[male.lower()]\n",
        "  direction2 -= analyzer[female.lower()]\n",
        "\n",
        "projection2 = analyzer.projection(direction2, analyzer[titles])"
      ],
      "execution_count": null,
      "outputs": []
    },
    {
      "cell_type": "code",
      "metadata": {
        "colab": {
          "base_uri": "https://localhost:8080/"
        },
        "id": "CMtTEzuvHDls",
        "outputId": "1d59662c-c7a5-4d7d-e497-e464a8a2192e"
      },
      "source": [
        "best_matches = analyzer.simple_analogy(('man', 'woman'), 'king', k=5)\n",
        "\n",
        "best_matches\n",
        "print(\"Matches (in order of similarity):\")\n",
        "for i, token in enumerate(best_matches):\n",
        "  print(i+1, token)\n",
        "\n",
        "assert 'queen' in analyzer.simple_analogy(('man', 'woman'), 'king', k=5)"
      ],
      "execution_count": null,
      "outputs": [
        {
          "output_type": "stream",
          "text": [
            "Matches (in order of similarity):\n",
            "1 king\n",
            "2 queen\n",
            "3 princess\n",
            "4 regnant\n",
            "5 princesses\n"
          ],
          "name": "stdout"
        }
      ]
    },
    {
      "cell_type": "markdown",
      "metadata": {
        "id": "yY3FS9q5x9qr"
      },
      "source": [
        "We can do this for capitols too.\n",
        "\n",
        "$\\overrightarrow{France} - \\overrightarrow{Japan} \\approx \\overrightarrow{Paris} - \\overrightarrow{x}$"
      ]
    },
    {
      "cell_type": "code",
      "metadata": {
        "colab": {
          "base_uri": "https://localhost:8080/"
        },
        "id": "xL3dPVqKx9wa",
        "outputId": "65556cf8-e75b-4ef3-c079-b4c61a2eca2a"
      },
      "source": [
        "best_matches = analyzer.simple_analogy(('france', 'japan'), 'paris', k=5)\n",
        "print(\"Matches (in order of similarity):\")\n",
        "for i, token in enumerate(best_matches):\n",
        "  print(i+1, token)\n",
        "\n",
        "assert 'tokyo' in analyzer.simple_analogy(('france', 'japan'), 'paris', k=5)"
      ],
      "execution_count": null,
      "outputs": [
        {
          "output_type": "stream",
          "text": [
            "Matches (in order of similarity):\n",
            "1 tokyo\n",
            "2 japan\n",
            "3 osaka\n",
            "4 kyoto\n",
            "5 tokyo \n"
          ],
          "name": "stdout"
        }
      ]
    },
    {
      "cell_type": "markdown",
      "metadata": {
        "id": "X1EknjnwpI2H"
      },
      "source": [
        "Please try doing this for at least one other famous category (e.g. comparing adjectives)."
      ]
    },
    {
      "cell_type": "code",
      "metadata": {
        "colab": {
          "base_uri": "https://localhost:8080/"
        },
        "id": "s0-c7wWenUeE",
        "outputId": "f57b60ca-078e-45eb-b99c-7b44b17c958b"
      },
      "source": [
        "best_matches = analyzer.simple_analogy(('hair', 'human'), 'fur', k=5)\n",
        "print(\"Matches (in order of similarity):\")\n",
        "for i, token in enumerate(best_matches):\n",
        "  print(i+1, token)\n",
        "\n",
        "# assert 'animal' in analyzer.simple_analogy(('hair', 'human'), 'fur', k=5) (assumption - nonhuman is similar enough)"
      ],
      "execution_count": null,
      "outputs": [
        {
          "output_type": "stream",
          "text": [
            "Matches (in order of similarity):\n",
            "1 human\n",
            "2 fur\n",
            "3 human/nonhuman\n",
            "4 #human\n",
            "5 nonhuman\n"
          ],
          "name": "stdout"
        }
      ]
    },
    {
      "cell_type": "markdown",
      "metadata": {
        "id": "DrRCBj3dr6m_"
      },
      "source": [
        "We can plot the relation between genderedness in the data and human annotation."
      ]
    },
    {
      "cell_type": "code",
      "metadata": {
        "colab": {
          "base_uri": "https://localhost:8080/",
          "height": 381
        },
        "id": "qxgJnULiG0_Q",
        "outputId": "b8154926-a736-4432-a3c6-29cc4dd85da0"
      },
      "source": [
        "import matplotlib.pyplot as plt\n",
        "import seaborn as sns\n",
        "\n",
        "fig = plt.figure(figsize=(12, 5))\n",
        "ax = fig.subplots(1, 2)\n",
        "stereotypicality = [professions[title]['stereotypical'] for title in titles]\n",
        "sns.regplot(x=projection, y=stereotypicality, ax=ax[0])\n",
        "a = sns.regplot(x=projection2, y=stereotypicality, ax=ax[1])\n",
        "ax[0].set_xlabel(\"Projection (one pair)\")\n",
        "ax[1].set_xlabel(\"Projection (several pairs)\")\n",
        "ax[0].set_ylabel(\"Human labelled stereotypicality\")\n",
        "fig.tight_layout(pad=.5)\n",
        "fig.show()"
      ],
      "execution_count": null,
      "outputs": [
        {
          "output_type": "display_data",
          "data": {
            "image/png": "[encoded data removed]",
            "text/plain": [
              "<Figure size 864x360 with 2 Axes>"
            ]
          },
          "metadata": {
            "tags": [],
            "needs_background": "light"
          }
        }
      ]
    },
    {
      "cell_type": "code",
      "metadata": {
        "colab": {
          "base_uri": "https://localhost:8080/",
          "height": 381
        },
        "id": "Rb4MO33THKEN",
        "outputId": "1dac0d1d-67b3-425b-e637-894b07a1f18f"
      },
      "source": [
        "fig = plt.figure(figsize=(12, 5))\n",
        "ax = fig.subplots(1, 2)\n",
        "definitionality = [professions[title]['definitional'] for title in titles]\n",
        "sns.regplot(x=projection, y=definitionality, ax=ax[0])\n",
        "a = sns.regplot(x=projection2, y=definitionality, ax=ax[1])\n",
        "ax[0].set_xlabel(\"Projection (one pair)\")\n",
        "ax[1].set_xlabel(\"Projection (several pairs)\")\n",
        "ax[0].set_ylabel(\"Human labelled definitional genderedness\")\n",
        "fig.tight_layout(pad=.5)\n",
        "fig.show()"
      ],
      "execution_count": null,
      "outputs": [
        {
          "output_type": "display_data",
          "data": {
            "image/png": "[encoded data removed]",
            "text/plain": [
              "<Figure size 864x360 with 2 Axes>"
            ]
          },
          "metadata": {
            "tags": [],
            "needs_background": "light"
          }
        }
      ]
    },
    {
      "cell_type": "markdown",
      "metadata": {
        "id": "cjgbqFix9A6Z"
      },
      "source": [
        "## More analogies\n",
        "\n",
        "The paper defines a more advances procedure for analogies as:\n",
        "\n",
        "$S_{(a,b)}(x, y) = \\left\\{\\begin{matrix}\n",
        "cos(\\overrightarrow{a}-\\overrightarrow{b}, \\overrightarrow{x}-\\overrightarrow{y}) & \\parallel \\overrightarrow{x}-\\overrightarrow{y} \\parallel \\leq 1\\\\ \n",
        "0 &  \\text{otherwise}\n",
        "\\end{matrix}\\right.$\n",
        "\n",
        "This should return a list of tuples with word pairs."
      ]
    },
    {
      "cell_type": "code",
      "metadata": {
        "colab": {
          "base_uri": "https://localhost:8080/"
        },
        "id": "HY3EsrrTvxFx",
        "outputId": "4a89902f-4921-4a68-ddf3-efbbce30f8c5"
      },
      "source": [
        "assert len(analyzer.analogies(analyzer['man']-analyzer['woman'], ['actor', 'actress'])) == 1\n",
        "assert type(analyzer.analogies(analyzer['man']-analyzer['woman'], ['actor', 'actress'])) == list\n",
        "assert type(analyzer.analogies(analyzer['man']-analyzer['woman'], ['actor', 'actress'])[0]) == tuple\n",
        "\n",
        "analyzer.analogies(analyzer['man']-analyzer['woman'], ['actor', 'actress'])"
      ],
      "execution_count": null,
      "outputs": [
        {
          "output_type": "execute_result",
          "data": {
            "text/plain": [
              "[('actress', 'actor')]"
            ]
          },
          "metadata": {
            "tags": []
          },
          "execution_count": 40
        }
      ]
    },
    {
      "cell_type": "code",
      "metadata": {
        "colab": {
          "base_uri": "https://localhost:8080/"
        },
        "id": "VK9et5C29AYD",
        "outputId": "4ba9b89b-d516-4b3a-aa1e-9500cb223c1a"
      },
      "source": [
        "analyzer.analogies(analogy_direction=direction2, tokens=titles)"
      ],
      "execution_count": null,
      "outputs": [
        {
          "output_type": "execute_result",
          "data": {
            "text/plain": [
              "[('accountant', 'businessman'),\n",
              " ('acquaintance', 'tutor'),\n",
              " ('actress', 'actor'),\n",
              " ('adventurer', 'sportsman'),\n",
              " ('advocate', 'lawyer'),\n",
              " ('aide', 'colonel'),\n",
              " ('alderman', 'councilman'),\n",
              " ('alter_ego', 'vice_chancellor'),\n",
              " ('ambassador', 'diplomat'),\n",
              " ('analyst', 'commentator'),\n",
              " ('anthropologist', 'historian'),\n",
              " ('archaeologist', 'historian'),\n",
              " ('architect', 'industrialist'),\n",
              " ('artist', 'cartoonist'),\n",
              " ('artiste', 'entertainer'),\n",
              " ('assassin', 'gangster'),\n",
              " ('astronaut', 'scientist'),\n",
              " ('astronomer', 'philosopher'),\n",
              " ('athlete', 'sportsman'),\n",
              " ('attorney', 'congressman'),\n",
              " ('author', 'philosopher'),\n",
              " ('baker', 'butler'),\n",
              " ('ballerina', 'soloist'),\n",
              " ('ballplayer', 'sportswriter'),\n",
              " ('banker', 'financier'),\n",
              " ('barrister', 'businessman'),\n",
              " ('bartender', 'gangster'),\n",
              " ('biologist', 'physicist'),\n",
              " ('bishop', 'archbishop'),\n",
              " ('bodyguard', 'protege'),\n",
              " ('bookkeeper', 'salesman'),\n",
              " ('boss', 'gangster'),\n",
              " ('broadcaster', 'commentator'),\n",
              " ('broker', 'financier'),\n",
              " ('bureaucrat', 'steward'),\n",
              " ('businessman', 'sportsman'),\n",
              " ('businesswoman', 'businessman'),\n",
              " ('cabbie', 'policeman'),\n",
              " ('cameraman', 'policeman'),\n",
              " ('campaigner', 'politician'),\n",
              " ('captain', 'colonel'),\n",
              " ('cardiologist', 'physicist'),\n",
              " ('caretaker', 'manager'),\n",
              " ('carpenter', 'foreman'),\n",
              " ('cartoonist', 'sportswriter'),\n",
              " ('cellist', 'trumpeter'),\n",
              " ('chancellor', 'provost'),\n",
              " ('chaplain', 'archbishop'),\n",
              " ('character', 'comic'),\n",
              " ('chef', 'waiter'),\n",
              " ('chemist', 'businessman'),\n",
              " ('choreographer', 'actor'),\n",
              " ('cinematographer', 'actor'),\n",
              " ('cleric', 'archbishop'),\n",
              " ('coach', 'manager'),\n",
              " ('columnist', 'commentator'),\n",
              " ('comedian', 'actor'),\n",
              " ('comic', 'cartoonist'),\n",
              " ('commander', 'colonel'),\n",
              " ('commissioner', 'lieutenant'),\n",
              " ('composer', 'actor'),\n",
              " ('conductor', 'maestro'),\n",
              " ('congressman', 'businessman'),\n",
              " ('constable', 'sergeant'),\n",
              " ('consultant', 'commentator'),\n",
              " ('cop', 'gangster'),\n",
              " ('correspondent', 'commentator'),\n",
              " ('councilman', 'congressman'),\n",
              " ('councilor', 'councilman'),\n",
              " ('counselor', 'aide'),\n",
              " ('critic', 'philosopher'),\n",
              " ('crooner', 'gangster'),\n",
              " ('curator', 'naturalist'),\n",
              " ('dancer', 'actor'),\n",
              " ('dentist', 'businessman'),\n",
              " ('deputy', 'lieutenant'),\n",
              " ('dermatologist', 'physicist'),\n",
              " ('detective', 'gangster'),\n",
              " ('diplomat', 'businessman'),\n",
              " ('director', 'manager'),\n",
              " ('doctor', 'surgeon'),\n",
              " ('drummer', 'trumpeter'),\n",
              " ('economist', 'businessman'),\n",
              " ('editor', 'administrator'),\n",
              " ('educator', 'businessman'),\n",
              " ('electrician', 'salesman'),\n",
              " ('employee', 'janitor'),\n",
              " ('entertainer', 'actor'),\n",
              " ('entrepreneur', 'businessman'),\n",
              " ('environmentalist', 'naturalist'),\n",
              " ('envoy', 'diplomat'),\n",
              " ('epidemiologist', 'physicist'),\n",
              " ('evangelist', 'preacher'),\n",
              " ('farmer', 'businessman'),\n",
              " ('fashion_designer', 'alter_ego'),\n",
              " ('filmmaker', 'actor'),\n",
              " ('financier', 'businessman'),\n",
              " ('firefighter', 'sergeant'),\n",
              " ('fireman', 'sergeant'),\n",
              " ('gardener', 'naturalist'),\n",
              " ('geologist', 'naturalist'),\n",
              " ('goalkeeper', 'footballer'),\n",
              " ('guitarist', 'trumpeter'),\n",
              " ('hairdresser', 'salesman'),\n",
              " ('handyman', 'salesman'),\n",
              " ('historian', 'philosopher'),\n",
              " ('hitman', 'gangster'),\n",
              " ('homemaker', 'businessman'),\n",
              " ('housekeeper', 'waiter'),\n",
              " ('housewife', 'salesman'),\n",
              " ('illustrator', 'cartoonist'),\n",
              " ('industrialist', 'businessman'),\n",
              " ('infielder', 'footballer'),\n",
              " ('inspector', 'colonel'),\n",
              " ('instructor', 'technician'),\n",
              " ('inventor', 'businessman'),\n",
              " ('investigator', 'detective'),\n",
              " ('janitor', 'salesman'),\n",
              " ('jeweler', 'businessman'),\n",
              " ('journalist', 'businessman'),\n",
              " ('judge', 'jurist'),\n",
              " ('jurist', 'businessman'),\n",
              " ('laborer', 'salesman'),\n",
              " ('landlord', 'proprietor'),\n",
              " ('lawmaker', 'businessman'),\n",
              " ('lawyer', 'businessman'),\n",
              " ('lecturer', 'headmaster'),\n",
              " ('legislator', 'businessman'),\n",
              " ('librarian', 'scholar'),\n",
              " ('lieutenant', 'colonel'),\n",
              " ('lifeguard', 'firefighter'),\n",
              " ('lyricist', 'actor'),\n",
              " ('magistrate', 'jurist'),\n",
              " ('maid', 'waiter'),\n",
              " ('marksman', 'soldier'),\n",
              " ('marshal', 'colonel'),\n",
              " ('mathematician', 'inventor'),\n",
              " ('mechanic', 'salesman'),\n",
              " ('mediator', 'negotiator'),\n",
              " ('medic', 'sergeant'),\n",
              " ('midfielder', 'footballer'),\n",
              " ('minister', 'diplomat'),\n",
              " ('missionary', 'preacher'),\n",
              " ('mobster', 'financier'),\n",
              " ('musician', 'actor'),\n",
              " ('nanny', 'homemaker'),\n",
              " ('naturalist', 'adventurer'),\n",
              " ('negotiator', 'diplomat'),\n",
              " ('neurologist', 'physicist'),\n",
              " ('neurosurgeon', 'physicist'),\n",
              " ('novelist', 'philosopher'),\n",
              " ('nun', 'monk'),\n",
              " ('nurse', 'technician'),\n",
              " ('officer', 'colonel'),\n",
              " ('organist', 'trumpeter'),\n",
              " ('painter', 'naturalist'),\n",
              " ('paralegal', 'accountant'),\n",
              " ('parishioner', 'archbishop'),\n",
              " ('parliamentarian', 'jurist'),\n",
              " ('pastor', 'preacher'),\n",
              " ('pathologist', 'physicist'),\n",
              " ('patrolman', 'sergeant'),\n",
              " ('pediatrician', 'physicist'),\n",
              " ('performer', 'actor'),\n",
              " ('pharmacist', 'electrician'),\n",
              " ('philanthropist', 'businessman'),\n",
              " ('philosopher', 'statesman'),\n",
              " ('photographer', 'cameraman'),\n",
              " ('photojournalist', 'cameraman'),\n",
              " ('physician', 'philosopher'),\n",
              " ('physicist', 'inventor'),\n",
              " ('pianist', 'trumpeter'),\n",
              " ('planner', 'architect'),\n",
              " ('playwright', 'actor'),\n",
              " ('plumber', 'salesman'),\n",
              " ('poet', 'philosopher'),\n",
              " ('policeman', 'gangster'),\n",
              " ('politician', 'businessman'),\n",
              " ('pollster', 'analyst'),\n",
              " ('preacher', 'cleric'),\n",
              " ('president', 'chancellor'),\n",
              " ('priest', 'archbishop'),\n",
              " ('principal', 'superintendent'),\n",
              " ('professor', 'physicist'),\n",
              " ('proprietor', 'businessman'),\n",
              " ('prosecutor', 'inspector'),\n",
              " ('protagonist', 'adventurer'),\n",
              " ('protester', 'policeman'),\n",
              " ('provost', 'dean'),\n",
              " ('psychiatrist', 'philosopher'),\n",
              " ('psychologist', 'philosopher'),\n",
              " ('publicist', 'businessman'),\n",
              " ('pundit', 'commentator'),\n",
              " ('radiologist', 'physicist'),\n",
              " ('realtor', 'businessman'),\n",
              " ('receptionist', 'salesman'),\n",
              " ('researcher', 'physicist'),\n",
              " ('restaurateur', 'businessman'),\n",
              " ('sailor', 'soldier'),\n",
              " ('salesman', 'businessman'),\n",
              " ('saxophonist', 'trumpeter'),\n",
              " ('scholar', 'philosopher'),\n",
              " ('scientist', 'inventor'),\n",
              " ('screenwriter', 'actor'),\n",
              " ('sculptor', 'cartoonist'),\n",
              " ('secretary', 'inspector'),\n",
              " ('senator', 'congressman'),\n",
              " ('sergeant', 'colonel'),\n",
              " ('servant', 'soldier'),\n",
              " ('serviceman', 'soldier'),\n",
              " ('shopkeeper', 'businessman'),\n",
              " ('singer', 'actor'),\n",
              " ('socialite', 'businessman'),\n",
              " ('sociologist', 'philosopher'),\n",
              " ('soldier', 'colonel'),\n",
              " ('solicitor', 'proprietor'),\n",
              " ('soloist', 'trumpeter'),\n",
              " ('sportswriter', 'sportsman'),\n",
              " ('stockbroker', 'financier'),\n",
              " ('strategist', 'commentator'),\n",
              " ('stylist', 'writer'),\n",
              " ('superintendent', 'headmaster'),\n",
              " ('surgeon', 'colonel'),\n",
              " ('swimmer', 'footballer'),\n",
              " ('teacher', 'headmaster'),\n",
              " ('technician', 'sergeant'),\n",
              " ('teenager', 'salesman'),\n",
              " ('therapist', 'neurologist'),\n",
              " ('trader', 'businessman'),\n",
              " ('treasurer', 'councilman'),\n",
              " ('trooper', 'sergeant'),\n",
              " ('trucker', 'salesman'),\n",
              " ('tutor', 'headmaster'),\n",
              " ('tycoon', 'businessman'),\n",
              " ('undersecretary', 'diplomat'),\n",
              " ('understudy', 'goalkeeper'),\n",
              " ('vice_chancellor', 'chancellor'),\n",
              " ('violinist', 'trumpeter'),\n",
              " ('vocalist', 'guitarist'),\n",
              " ('waiter', 'gangster'),\n",
              " ('waitress', 'waiter'),\n",
              " ('warden', 'constable'),\n",
              " ('welder', 'salesman'),\n",
              " ('worker', 'laborer'),\n",
              " ('wrestler', 'boxer'),\n",
              " ('writer', 'actor')]"
            ]
          },
          "metadata": {
            "tags": []
          },
          "execution_count": 41
        }
      ]
    }
  ]
}
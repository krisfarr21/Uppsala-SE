{
  "nbformat": 4,
  "nbformat_minor": 0,
  "metadata": {
    "anaconda-cloud": {},
    "kernelspec": {
      "display_name": "Python 3",
      "language": "python",
      "name": "python3"
    },
    "language_info": {
      "codemirror_mode": {
        "name": "ipython",
        "version": 3
      },
      "file_extension": ".py",
      "mimetype": "text/x-python",
      "name": "python",
      "nbconvert_exporter": "python",
      "pygments_lexer": "ipython3",
      "version": "3.6.1"
    },
    "colab": {
      "name": "Assignment 1.ipynb",
      "provenance": [],
      "collapsed_sections": []
    }
  },
  "cells": [
    {
      "cell_type": "markdown",
      "metadata": {
        "id": "_W1IxW8EG_KL"
      },
      "source": [
        "# Assignment 1: Sentiment Polarity "
      ]
    },
    {
      "cell_type": "code",
      "metadata": {
        "id": "kkCVS-BELsn3"
      },
      "source": [
        "import os\n",
        "import numpy as np\n",
        "from numpy.linalg import norm\n",
        "import time\n",
        "import matplotlib.pyplot as plt\n",
        "import random"
      ],
      "execution_count": null,
      "outputs": []
    },
    {
      "cell_type": "markdown",
      "metadata": {
        "id": "lfYoZ8cRG7xv"
      },
      "source": [
        "## Part 1: Parsing the dataset"
      ]
    },
    {
      "cell_type": "code",
      "metadata": {
        "colab": {
          "base_uri": "https://localhost:8080/"
        },
        "id": "JjTPj6lpM4jL",
        "outputId": "a3a96506-fc5a-4756-ead6-10f20f1e00db"
      },
      "source": [
        "!wget -N http://www.cs.cornell.edu/people/pabo/movie-review-data/review_polarity.tar.gz"
      ],
      "execution_count": null,
      "outputs": [
        {
          "output_type": "stream",
          "text": [
            "--2021-06-04 21:50:32--  http://www.cs.cornell.edu/people/pabo/movie-review-data/review_polarity.tar.gz\n",
            "Resolving www.cs.cornell.edu (www.cs.cornell.edu)... 132.236.207.36\n",
            "Connecting to www.cs.cornell.edu (www.cs.cornell.edu)|132.236.207.36|:80... connected.\n",
            "HTTP request sent, awaiting response... 304 Not Modified\n",
            "File ‘review_polarity.tar.gz’ not modified on server. Omitting download.\n",
            "\n"
          ],
          "name": "stdout"
        }
      ]
    },
    {
      "cell_type": "code",
      "metadata": {
        "id": "lzWx7_ddM4-P"
      },
      "source": [
        "files = !tar xvzf review_polarity.tar.gz\n",
        "files = list(files)"
      ],
      "execution_count": null,
      "outputs": []
    },
    {
      "cell_type": "code",
      "metadata": {
        "id": "2ZyYw-hFM5A2"
      },
      "source": [
        "X_raw = []\n",
        "y_labels = []\n",
        " \n",
        "# negative files\n",
        "for file in files[:1000]:\n",
        "  with open(file, 'r') as f: \n",
        "    filecontent = f.read()\n",
        "    filecontent = filecontent.replace('\\n', '')\n",
        "    X_raw.append(filecontent)\n",
        "\n",
        "# positive files\n",
        "for file in files[1000:2000]:\n",
        "  with open(file, 'r') as f:\n",
        "    filecontent = f.read()\n",
        "    filecontent = filecontent.replace('\\n', '')\n",
        "    X_raw.append(filecontent)\n",
        "\n",
        "# labels\n",
        "y = np.asarray((([-1] * 1000 + [1] * 1000)))"
      ],
      "execution_count": null,
      "outputs": []
    },
    {
      "cell_type": "code",
      "metadata": {
        "colab": {
          "base_uri": "https://localhost:8080/"
        },
        "id": "_g_4ObMEM5Dv",
        "outputId": "6259a283-2685-4323-f102-0c1907bb5a9a"
      },
      "source": [
        "ordered_vocab = []\n",
        "\n",
        "for review in X_raw:\n",
        "  review = review.split(' ')\n",
        "  ordered_vocab.extend(review)\n",
        "\n",
        "\n",
        "vocab = sorted(set(ordered_vocab))\n",
        "            \n",
        "print(len(ordered_vocab), len(vocab))"
      ],
      "execution_count": null,
      "outputs": [
        {
          "output_type": "stream",
          "text": [
            "1496584 50921\n"
          ],
          "name": "stdout"
        }
      ]
    },
    {
      "cell_type": "markdown",
      "metadata": {
        "id": "HPircy3aG1sF"
      },
      "source": [
        "## Part 2: Feature Encoding"
      ]
    },
    {
      "cell_type": "code",
      "metadata": {
        "id": "_3CmY3WiQMJS"
      },
      "source": [
        "lut = dict()\n",
        "\n",
        "for i, word in enumerate(vocab):\n",
        "    lut[word] = i\n",
        "\n",
        "# initialising BOW with only zeros...\n",
        "X = np.zeros((len(X_raw), len(vocab)))\n",
        "\n",
        "for i, doc in enumerate(X_raw):\n",
        "    for word in doc.split():\n",
        "        X[i, lut[word]] = 1"
      ],
      "execution_count": null,
      "outputs": []
    },
    {
      "cell_type": "code",
      "metadata": {
        "id": "bHSPyRqDQPXu"
      },
      "source": [
        "X_train = np.concatenate((X[:800, :], X[1000:1800, :]))\n",
        "X_test = np.concatenate((X[800:1000, :], X[1800:2000, :]))\n",
        "\n",
        "y_train = np.concatenate((y[:800], y[1000:1800]))\n",
        "y_test = np.concatenate((y[800:1000], y[1800:2000]))\n",
        "\n",
        "assert len(X_train) == len(y_train)\n",
        "assert len(X_test) == len(y_test)"
      ],
      "execution_count": null,
      "outputs": []
    },
    {
      "cell_type": "markdown",
      "metadata": {
        "id": "PAi39XV5VB_k"
      },
      "source": [
        "## Part 3: Learning Framework"
      ]
    },
    {
      "cell_type": "code",
      "metadata": {
        "id": "6kYn2tG1VLyo"
      },
      "source": [
        "class Model:\n",
        "    def __init__(self, learning_rate, reguliser_dampening):\n",
        "        self.learning_rate = learning_rate # γ - gamma\n",
        "        self.reguliser_dampening = reguliser_dampening # λ - lambda\n",
        "\n",
        "    def _hinge_loss(self, X_train, y_train):\n",
        "        hinge_sigma = 0\n",
        "        for i, arr in enumerate(X_train):\n",
        "            hinge_sigma += max(0, 1 - (np.multiply(y_train[i], np.vdot(self.omega, arr))))\n",
        "        hinge_loss = (self.reguliser_dampening/2) * norm(self.omega)**2 + hinge_sigma\n",
        "        return hinge_loss\n",
        "    \n",
        "    def _gradient(self, X_train, y_train):\n",
        "        gd_sigma = np.zeros(len(X_train[0]))\n",
        "        for i, arr in enumerate(X_train):\n",
        "            if np.multiply(y_train[i], np.vdot(self.omega, arr)) < 1:\n",
        "                gd_sigma -= (y_train[i] * arr)\n",
        "        gradient = self.reguliser_dampening * self.omega + gd_sigma\n",
        "        self.omega = self.omega - self.learning_rate * gradient\n",
        "        return self.omega\n",
        "    \n",
        "    def fit(self, X_train, y_train):\n",
        "        X_train = np.c_[np.ones((len(X_train),1)), X_train] # pseudo input\n",
        "        self.omega = np.random.normal(0, 1, size=X_train.shape[1]) # randomized omega with normal (Gaussian) distribution\n",
        "\n",
        "        # calculate first hinge loss with randomized omega\n",
        "        hinge_loss = self._hinge_loss(X_train, y_train)\n",
        "\n",
        "        # calculate new omega with gradient descent\n",
        "        self.omega = self._gradient(X_train, y_train)\n",
        "\n",
        "        # update hinge loss\n",
        "        hinge_loss = self._hinge_loss(X_train, y_train)\n",
        "\n",
        "        # find best hinge loss with certain criteria\n",
        "        best_hinge_loss = hinge_loss\n",
        "        counter = 0\n",
        "        for _ in range(500):\n",
        "            self.omega = self._gradient(X_train, y_train)\n",
        "            hinge_loss = self._hinge_loss(X_train, y_train)\n",
        "            if 5 > hinge_loss - best_hinge_loss < 0:\n",
        "                counter +=1 \n",
        "            if 5 > hinge_loss - best_hinge_loss < 0 and counter == 20:\n",
        "                hinge_loss = best_hinge_loss\n",
        "                break\n",
        "            if hinge_loss < best_hinge_loss:\n",
        "                best_hinge_loss = hinge_loss\n",
        "\n",
        "    # predict values with best omega (found through best hingeloss)\n",
        "    def predict(self, X_train, y_train):\n",
        "        X_train = np.c_[np.ones((len(X_train),1)), X_train]\n",
        "        predicted = []\n",
        "        for array in X_train:\n",
        "            predicted.append(np.sign(np.matmul(array, self.omega)))\n",
        "        return predicted\n",
        "    \n",
        "    def score(self, X_test, y_test):\n",
        "        predicted = self.predict(X_test, y_test)\n",
        "        return np.sum(predicted == y_test)/len(y_test)*100\n",
        "\n",
        "    def plot(self):\n",
        "        plt.figure(figsize=(20, 3))\n",
        "        plt.plot(self.omega[1:])\n",
        "        plt.xlabel(\"Value\")\n",
        "        plt.xlabel(\"Weights\")\n",
        "        plt.show()\n",
        "    \n",
        "    def weights_occurences(self, docs, vocab):\n",
        "        idx = np.argsort(np.abs(self.omega[1:]))\n",
        "        print(\"                Word   Weight  Occurences\")\n",
        "        for i in idx[-20:]:  \n",
        "            print(\"%20s   %.3f\\t%i \" % (vocab[i], self.omega[i+1], np.sum([vocab[i] in d for d in docs])))"
      ],
      "execution_count": null,
      "outputs": []
    },
    {
      "cell_type": "code",
      "metadata": {
        "id": "gMiwbjtGeNw3"
      },
      "source": [
        "model = Model(learning_rate=0.1, reguliser_dampening=0.001)"
      ],
      "execution_count": null,
      "outputs": []
    },
    {
      "cell_type": "code",
      "metadata": {
        "id": "QGNqpq6JgRjc"
      },
      "source": [
        "model.fit(X_train=X_train, y_train=y_train)"
      ],
      "execution_count": null,
      "outputs": []
    },
    {
      "cell_type": "code",
      "metadata": {
        "id": "IP33-gGIxIg8"
      },
      "source": [
        "predicted = model.predict(X_train=X_train, y_train=y_train)"
      ],
      "execution_count": null,
      "outputs": []
    },
    {
      "cell_type": "code",
      "metadata": {
        "colab": {
          "base_uri": "https://localhost:8080/"
        },
        "id": "PJkv9wCF97k1",
        "outputId": "55cea1c8-b012-4b78-8b7a-1ff220d5b472"
      },
      "source": [
        "model.score(X_test=X_test, y_test=y_test)"
      ],
      "execution_count": null,
      "outputs": [
        {
          "output_type": "execute_result",
          "data": {
            "text/plain": [
              "61.0"
            ]
          },
          "metadata": {
            "tags": []
          },
          "execution_count": 155
        }
      ]
    },
    {
      "cell_type": "code",
      "metadata": {
        "colab": {
          "base_uri": "https://localhost:8080/",
          "height": 129
        },
        "id": "zsBLYuF1BsiA",
        "outputId": "41d2d5d5-853b-4cae-83ef-1da951d7f78c"
      },
      "source": [
        "model.plot()"
      ],
      "execution_count": null,
      "outputs": [
        {
          "output_type": "display_data",
          "data": {
            "image/png": "[encoded data removed]",
            "text/plain": [
              "<Figure size 1440x216 with 1 Axes>"
            ]
          },
          "metadata": {
            "tags": [],
            "needs_background": "light"
          }
        }
      ]
    },
    {
      "cell_type": "code",
      "metadata": {
        "colab": {
          "base_uri": "https://localhost:8080/"
        },
        "id": "cgTRWo4cFl94",
        "outputId": "bf8e29b5-e691-437c-e4b5-9ed09fb321ef"
      },
      "source": [
        "model.weights_occurences(docs=X_raw, vocab=vocab)"
      ],
      "execution_count": null,
      "outputs": [
        {
          "output_type": "stream",
          "text": [
            "                Word   Weight  Occurences\n",
            "            supposed   -154.505\t321 \n",
            "                most   156.424\t1439 \n",
            "             perfect   157.121\t403 \n",
            "             nothing   -160.586\t594 \n",
            "                very   163.297\t1552 \n",
            "                   !   -165.083\t663 \n",
            "              stupid   -168.251\t227 \n",
            "                plot   -175.473\t1002 \n",
            "                   ?   -179.343\t1228 \n",
            "              boring   -184.327\t229 \n",
            "                many   186.957\t796 \n",
            "               world   187.648\t643 \n",
            "              script   -190.189\t632 \n",
            "                best   190.259\t867 \n",
            "                also   191.047\t1071 \n",
            "               great   195.266\t805 \n",
            "                both   210.316\t683 \n",
            "               worst   -212.237\t238 \n",
            "                life   231.460\t895 \n",
            "                 bad   -350.353\t825 \n"
          ],
          "name": "stdout"
        }
      ]
    },
    {
      "cell_type": "markdown",
      "metadata": {
        "id": "qrnf39OgHI8c"
      },
      "source": [
        "## Part 4: Exploring hyperparameters"
      ]
    },
    {
      "cell_type": "code",
      "metadata": {
        "id": "0ZFwxRrxF_Yl"
      },
      "source": [
        "best_hyperparameters = None\n",
        "parameter_distribution = {'learning_rate': np.exp(np.linspace(np.log(0.0001), np.log(3), 10)),\n",
        "                          'reguliser_dampening': np.exp(np.linspace(np.log(0.0001), np.log(3), 10))}"
      ],
      "execution_count": null,
      "outputs": []
    },
    {
      "cell_type": "code",
      "metadata": {
        "id": "RtszqCByAROq"
      },
      "source": [
        "import warnings\n",
        "warnings.filterwarnings(\"ignore\", category=RuntimeWarning) "
      ],
      "execution_count": null,
      "outputs": []
    },
    {
      "cell_type": "code",
      "metadata": {
        "id": "IwNjBq_AddWC",
        "colab": {
          "base_uri": "https://localhost:8080/"
        },
        "outputId": "5cf2297b-048d-44a1-b553-61fa6c684992"
      },
      "source": [
        "start = time.time()\n",
        "number_of_iterations = 10\n",
        "print(\"Learning rate:\\tReg.dampening:\\tTraining set accuracy:\")\n",
        "\n",
        "for _ in range(number_of_iterations):\n",
        "    lr = parameter_distribution['learning_rate'][random.randint(0, 9)]\n",
        "    reg_damp = parameter_distribution['reguliser_dampening'][random.randint(0, 9)]\n",
        "    model = Model(learning_rate=lr, reguliser_dampening=reg_damp)\n",
        "    model.fit(X_train, y_train)\n",
        "    model_accuracy = model.score(X_train, y_train)\n",
        "\n",
        "    if best_hyperparameters is None or best_hyperparameters[2] < model_accuracy:\n",
        "        best_hyperparameters = (lr, reg_damp, model_accuracy)\n",
        "    print(\"%.5f\\t\\t%.5f\\t\\t%.1f%%\" % (lr, reg_damp, model_accuracy))\n",
        "\n",
        "end = time.time()\n",
        "print(\"Time taken for grid search in seconds:\", round(end-start, ndigits=5))"
      ],
      "execution_count": null,
      "outputs": [
        {
          "output_type": "stream",
          "text": [
            "Learning rate:\tReg.dampening:\tTraining set accuracy:\n",
            "0.00311\t\t0.00977\t\t64.6%\n",
            "3.00000\t\t0.00010\t\t93.9%\n",
            "0.00031\t\t0.09655\t\t59.6%\n",
            "0.30353\t\t0.00099\t\t95.6%\n",
            "0.00010\t\t0.00010\t\t53.4%\n",
            "0.00977\t\t0.00977\t\t63.7%\n",
            "0.30353\t\t3.00000\t\t50.0%\n",
            "0.95425\t\t0.95425\t\t50.0%\n",
            "0.00977\t\t3.00000\t\t52.6%\n",
            "0.09655\t\t0.00099\t\t93.1%\n",
            "Time taken for grid search in seconds: 406.57599\n"
          ],
          "name": "stdout"
        }
      ]
    },
    {
      "cell_type": "code",
      "metadata": {
        "id": "VXbL9MG5eY0W",
        "colab": {
          "base_uri": "https://localhost:8080/"
        },
        "outputId": "9a1dbb62-bbd9-49e6-cce3-ce8ae9feda7f"
      },
      "source": [
        "best_combination = best_hyperparameters[0], best_hyperparameters[1]\n",
        "print(\"Best combination of parameters:\")\n",
        "print(\"Learning rate\", round(best_combination[0], ndigits=5))\n",
        "print(\"Reguliser dampening\", round(best_combination[1], ndigits=5))"
      ],
      "execution_count": null,
      "outputs": [
        {
          "output_type": "stream",
          "text": [
            "Best combination of parameters:\n",
            "Learning rate 0.30353\n",
            "Reguliser dampening 0.00099\n"
          ],
          "name": "stdout"
        }
      ]
    },
    {
      "cell_type": "markdown",
      "metadata": {
        "id": "5o3gSAHUBvf5"
      },
      "source": [
        "### Best Model"
      ]
    },
    {
      "cell_type": "code",
      "metadata": {
        "id": "x2e4fYJKiIfu"
      },
      "source": [
        "best_model = Model(learning_rate=best_combination[0], reguliser_dampening=best_combination[1])\n",
        "best_model.fit(X_train=X_train, y_train=y_train)"
      ],
      "execution_count": null,
      "outputs": []
    },
    {
      "cell_type": "code",
      "metadata": {
        "id": "UY1rZjwRCFK2",
        "colab": {
          "base_uri": "https://localhost:8080/"
        },
        "outputId": "7183a77e-974d-4455-dc2b-3c0e39401e8d"
      },
      "source": [
        "best_model_accuracy = best_model.score(X_test=X_test, y_test=y_test)\n",
        "print(\"Best model's accuracy:\", best_model_accuracy)"
      ],
      "execution_count": null,
      "outputs": [
        {
          "output_type": "stream",
          "text": [
            "Best model's accuracy: 85.0\n"
          ],
          "name": "stdout"
        }
      ]
    },
    {
      "cell_type": "markdown",
      "metadata": {
        "id": "NUZMnMfOCwGG"
      },
      "source": [
        "## Implementation of Work"
      ]
    },
    {
      "cell_type": "markdown",
      "metadata": {
        "id": "aJ-K9zfeHyW9"
      },
      "source": [
        "After parsing the dataset, the negative and positive raw documents were extracted and the labels array was created in correlation with the documents. A very simple tokenization was implemented (using whitespaces) to create the unique list of words. The encoding was fastly executed through the use of a dictionary and afterwards, the data was splitted into a training and a test set, using the 80/20 method. The model was implemented as a class, avoiding DRY as much as possible by using different methods. Following that, the best hyperparameters from the gridsearch sample for the best model were explored and used to output the best possible results for the training data. "
      ]
    },
    {
      "cell_type": "markdown",
      "metadata": {
        "id": "plIXTtAUCgRt"
      },
      "source": [
        "## Qualitative Analysis"
      ]
    },
    {
      "cell_type": "markdown",
      "metadata": {
        "id": "fjUWGdOcCmR0"
      },
      "source": [
        "The initial hyperparameters (learning = 0.1, reguliser_dampening = 0.001) resulted in a score of 61% whereas the best model from the grid search sample had triple the learning rate but the same regularization. This suggests that although a higher learning rate may result in an unstable hinge loss development, it may, in some instances, produce better results. This drawback may have been compensated by the counter (set on 20) assigned in the stopping  criteria. Initially, I was expecting that the counter will significantly increase the time taken to fit the data however that was not the case.\n",
        "The weights for the words with the strongest influence convey some easily understandable results. For example, 'stupid', 'boring', 'worst' and 'bad' were negatively connotated and 'perfect', 'best' and 'great' were positively connotated. However, other results are not that obvious. Furthermore, the results show that the tokenization process could have been definitely improved, although this was not the main focus of the assignment.\n",
        "Throughout the work, arrays were generally used to facilitate indexing and mathematical operations. Implementing the model into a class and methods was a great option to prevent repeating code. The use of dictionaries (and arrays) has also greatly decreased the time taken to encode the data. "
      ]
    },
    {
      "cell_type": "markdown",
      "metadata": {
        "id": "xbZWos3vC1kX"
      },
      "source": [
        "## General comments"
      ]
    },
    {
      "cell_type": "markdown",
      "metadata": {
        "id": "8Rzmb7IpMykT"
      },
      "source": [
        "I think that this assignment has served really well to give us a better understanding on how models work under the hood. It was definitely a tough assignment however it was very fruitful. The mathematical framework was the most difficult to comprehend but easier to implement. Initially focusing on understanding the framework was a waste of time given that without implementing it, this would almost never be possible."
      ]
    }
  ]
}